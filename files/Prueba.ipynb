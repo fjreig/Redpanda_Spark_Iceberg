{
 "cells": [
  {
   "cell_type": "code",
   "execution_count": 1,
   "id": "960a72a8-404c-4dc5-ad59-4f3c408c2e38",
   "metadata": {},
   "outputs": [],
   "source": [
    "from pyiceberg.catalog import load_catalog"
   ]
  },
  {
   "cell_type": "code",
   "execution_count": 2,
   "id": "d619e59e-38aa-4900-8193-09aba9c06726",
   "metadata": {},
   "outputs": [],
   "source": [
    "catalog = load_catalog(\n",
    "    \"default\",\n",
    "    **{\n",
    "        \"uri\": \"http://catalog:8181\",\n",
    "        \"s3.endpoint\": \"http://minio:9000\",\n",
    "        \"py-io-impl\": \"pyiceberg.io.pyarrow.PyArrowFileIO\",\n",
    "        \"s3.access-key-id\": \"minio\",\n",
    "        \"s3.secret-access-key\": \"minio123\",\n",
    "    }\n",
    ")"
   ]
  },
  {
   "cell_type": "code",
   "execution_count": 3,
   "id": "4c70bc7b-da0c-44fe-a2d9-233c1bd89b30",
   "metadata": {},
   "outputs": [
    {
     "data": {
      "text/plain": [
       "[('redpanda',)]"
      ]
     },
     "execution_count": 3,
     "metadata": {},
     "output_type": "execute_result"
    }
   ],
   "source": [
    "catalog.list_namespaces()"
   ]
  },
  {
   "cell_type": "code",
   "execution_count": 4,
   "id": "cfd9c1f3-f077-4ef8-bd8a-3d69b4435cf3",
   "metadata": {},
   "outputs": [],
   "source": [
    "table = catalog.load_table(\"redpanda.value_schema_id_prefix\")"
   ]
  },
  {
   "cell_type": "code",
   "execution_count": 5,
   "id": "71d3e081-1d5d-473c-9afa-64bad46cd620",
   "metadata": {},
   "outputs": [],
   "source": [
    "df = table.scan().to_pandas()"
   ]
  },
  {
   "cell_type": "code",
   "execution_count": 6,
   "id": "65a31c53-1bea-4ae3-8e41-d99c668ad21e",
   "metadata": {},
   "outputs": [
    {
     "data": {
      "text/html": [
       "<div>\n",
       "<style scoped>\n",
       "    .dataframe tbody tr th:only-of-type {\n",
       "        vertical-align: middle;\n",
       "    }\n",
       "\n",
       "    .dataframe tbody tr th {\n",
       "        vertical-align: top;\n",
       "    }\n",
       "\n",
       "    .dataframe thead th {\n",
       "        text-align: right;\n",
       "    }\n",
       "</style>\n",
       "<table border=\"1\" class=\"dataframe\">\n",
       "  <thead>\n",
       "    <tr style=\"text-align: right;\">\n",
       "      <th></th>\n",
       "      <th>redpanda</th>\n",
       "      <th>user_id</th>\n",
       "      <th>event_type</th>\n",
       "      <th>ts</th>\n",
       "    </tr>\n",
       "  </thead>\n",
       "  <tbody>\n",
       "    <tr>\n",
       "      <th>0</th>\n",
       "      <td>{'partition': 0, 'offset': 0, 'timestamp': 202...</td>\n",
       "      <td>2324</td>\n",
       "      <td>BUTTON_CLICK</td>\n",
       "      <td>2024-11-25T20:23:59.380Z</td>\n",
       "    </tr>\n",
       "    <tr>\n",
       "      <th>1</th>\n",
       "      <td>{'partition': 0, 'offset': 1, 'timestamp': 202...</td>\n",
       "      <td>3333</td>\n",
       "      <td>SCROLL</td>\n",
       "      <td>2024-11-25T20:24:14.774Z</td>\n",
       "    </tr>\n",
       "    <tr>\n",
       "      <th>2</th>\n",
       "      <td>{'partition': 0, 'offset': 2, 'timestamp': 202...</td>\n",
       "      <td>7272</td>\n",
       "      <td>BUTTON_CLICK</td>\n",
       "      <td>2024-11-25T20:24:34.552Z</td>\n",
       "    </tr>\n",
       "  </tbody>\n",
       "</table>\n",
       "</div>"
      ],
      "text/plain": [
       "                                            redpanda  user_id    event_type  \\\n",
       "0  {'partition': 0, 'offset': 0, 'timestamp': 202...     2324  BUTTON_CLICK   \n",
       "1  {'partition': 0, 'offset': 1, 'timestamp': 202...     3333        SCROLL   \n",
       "2  {'partition': 0, 'offset': 2, 'timestamp': 202...     7272  BUTTON_CLICK   \n",
       "\n",
       "                         ts  \n",
       "0  2024-11-25T20:23:59.380Z  \n",
       "1  2024-11-25T20:24:14.774Z  \n",
       "2  2024-11-25T20:24:34.552Z  "
      ]
     },
     "execution_count": 6,
     "metadata": {},
     "output_type": "execute_result"
    }
   ],
   "source": [
    "df"
   ]
  },
  {
   "cell_type": "code",
   "execution_count": null,
   "id": "5a5e390a-2c93-4a0e-8352-360af8511994",
   "metadata": {},
   "outputs": [],
   "source": []
  }
 ],
 "metadata": {
  "kernelspec": {
   "display_name": "Python 3 (ipykernel)",
   "language": "python",
   "name": "python3"
  },
  "language_info": {
   "codemirror_mode": {
    "name": "ipython",
    "version": 3
   },
   "file_extension": ".py",
   "mimetype": "text/x-python",
   "name": "python",
   "nbconvert_exporter": "python",
   "pygments_lexer": "ipython3",
   "version": "3.10.16"
  }
 },
 "nbformat": 4,
 "nbformat_minor": 5
}
