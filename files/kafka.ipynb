{
 "cells": [
  {
   "cell_type": "code",
   "execution_count": 4,
   "id": "8e81668d-9cd9-48c4-af56-09c2a0372326",
   "metadata": {},
   "outputs": [],
   "source": [
    "#pip install kafka-python"
   ]
  },
  {
   "cell_type": "code",
   "execution_count": 14,
   "id": "9e70cd0b-c958-4446-a5cd-b92d23404ec8",
   "metadata": {},
   "outputs": [],
   "source": [
    "from kafka import KafkaProducer\n",
    "from kafka.errors import KafkaError\n",
    "import json\n",
    "import time"
   ]
  },
  {
   "cell_type": "code",
   "execution_count": 8,
   "id": "de1201c7-e9c5-4187-bef3-68d706e0c9d3",
   "metadata": {},
   "outputs": [],
   "source": [
    "def on_success(metadata):\n",
    "  print(f\"Message produced to topic '{metadata.topic}' at offset {metadata.offset}\")\n",
    "\n",
    "def on_error(e):\n",
    "  print(f\"Error sending message: {e}\")"
   ]
  },
  {
   "cell_type": "code",
   "execution_count": 12,
   "id": "16ae6e74-7cc3-46aa-a355-dca54227f5af",
   "metadata": {},
   "outputs": [
    {
     "name": "stderr",
     "output_type": "stream",
     "text": [
      "WARNING:kafka.sasl.scram:Exchanging credentials in the clear during Sasl Authentication\n"
     ]
    }
   ],
   "source": [
    "producer = KafkaProducer(\n",
    "      bootstrap_servers = \"89.7.187.108:19092\",\n",
    "      security_protocol=\"SASL_PLAINTEXT\",\n",
    "      sasl_mechanism=\"SCRAM-SHA-256\",\n",
    "      sasl_plain_username=\"pavener\",\n",
    "      sasl_plain_password=\"l92giIQRJs7SvO0GFgAUgSyGUOa4aY\",\n",
    "      request_timeout_ms=15000\n",
    ")"
   ]
  },
  {
   "cell_type": "code",
   "execution_count": 24,
   "id": "65df2b29-4038-42de-ad79-15f9a9c064fb",
   "metadata": {},
   "outputs": [],
   "source": [
    "producer = KafkaProducer(\n",
    "      bootstrap_servers = \"89.7.187.108:19092\",\n",
    "      security_protocol=\"SASL_PLAINTEXT\",\n",
    "      sasl_mechanism=\"SCRAM-SHA-256\",\n",
    "      sasl_plain_username=\"fv_pavasal_cheste\",\n",
    "      sasl_plain_password=\"d3LHXr5sfnNvhW7ohT032woX1LsAXy\",\n",
    "      value_serializer=lambda v: json.dumps(v).encode('utf-8'),\n",
    "      key_serializer=lambda v: json.dumps(v).encode('utf-8'),\n",
    "      request_timeout_ms=15000\n",
    ")"
   ]
  },
  {
   "cell_type": "code",
   "execution_count": 25,
   "id": "c3cb2b7a-2b7f-4930-9b9f-b1a71ca9d33c",
   "metadata": {},
   "outputs": [],
   "source": [
    "valor = str(time.time())"
   ]
  },
  {
   "cell_type": "code",
   "execution_count": 28,
   "id": "6dda7605-a336-4a24-a515-468854f6dde1",
   "metadata": {},
   "outputs": [
    {
     "data": {
      "text/plain": [
       "<kafka.producer.future.FutureRecordMetadata at 0x7fc294db0c10>"
      ]
     },
     "execution_count": 28,
     "metadata": {},
     "output_type": "execute_result"
    },
    {
     "name": "stderr",
     "output_type": "stream",
     "text": [
      "25/03/25 11:06:58 WARN JavaUtils: Attempt to delete using native Unix OS command failed for path = /tmp/spark-8ed3af0c-6261-4dc4-834b-06e6b889324d. Falling back to Java IO way\n",
      "java.io.IOException: Failed to delete: /tmp/spark-8ed3af0c-6261-4dc4-834b-06e6b889324d\n",
      "\tat org.apache.spark.network.util.JavaUtils.deleteRecursivelyUsingUnixNative(JavaUtils.java:174)\n",
      "\tat org.apache.spark.network.util.JavaUtils.deleteRecursively(JavaUtils.java:109)\n",
      "\tat org.apache.spark.network.util.JavaUtils.deleteRecursively(JavaUtils.java:90)\n",
      "\tat org.apache.spark.util.SparkFileUtils.deleteRecursively(SparkFileUtils.scala:121)\n",
      "\tat org.apache.spark.util.SparkFileUtils.deleteRecursively$(SparkFileUtils.scala:120)\n",
      "\tat org.apache.spark.util.Utils$.deleteRecursively(Utils.scala:1126)\n",
      "\tat org.apache.spark.util.ShutdownHookManager$.$anonfun$new$4(ShutdownHookManager.scala:65)\n",
      "\tat org.apache.spark.util.ShutdownHookManager$.$anonfun$new$4$adapted(ShutdownHookManager.scala:62)\n",
      "\tat scala.collection.IndexedSeqOptimized.foreach(IndexedSeqOptimized.scala:36)\n",
      "\tat scala.collection.IndexedSeqOptimized.foreach$(IndexedSeqOptimized.scala:33)\n",
      "\tat scala.collection.mutable.ArrayOps$ofRef.foreach(ArrayOps.scala:198)\n",
      "\tat org.apache.spark.util.ShutdownHookManager$.$anonfun$new$2(ShutdownHookManager.scala:62)\n",
      "\tat org.apache.spark.util.SparkShutdownHook.run(ShutdownHookManager.scala:214)\n",
      "\tat org.apache.spark.util.SparkShutdownHookManager.$anonfun$runAll$2(ShutdownHookManager.scala:188)\n",
      "\tat scala.runtime.java8.JFunction0$mcV$sp.apply(JFunction0$mcV$sp.java:23)\n",
      "\tat org.apache.spark.util.Utils$.logUncaughtExceptions(Utils.scala:1928)\n",
      "\tat org.apache.spark.util.SparkShutdownHookManager.$anonfun$runAll$1(ShutdownHookManager.scala:188)\n",
      "\tat scala.runtime.java8.JFunction0$mcV$sp.apply(JFunction0$mcV$sp.java:23)\n",
      "\tat scala.util.Try$.apply(Try.scala:213)\n",
      "\tat org.apache.spark.util.SparkShutdownHookManager.runAll(ShutdownHookManager.scala:188)\n",
      "\tat org.apache.spark.util.SparkShutdownHookManager$$anon$2.run(ShutdownHookManager.scala:178)\n",
      "\tat java.base/java.util.concurrent.Executors$RunnableAdapter.call(Executors.java:539)\n",
      "\tat java.base/java.util.concurrent.FutureTask.run(FutureTask.java:264)\n",
      "\tat java.base/java.util.concurrent.ThreadPoolExecutor.runWorker(ThreadPoolExecutor.java:1136)\n",
      "\tat java.base/java.util.concurrent.ThreadPoolExecutor$Worker.run(ThreadPoolExecutor.java:635)\n",
      "\tat java.base/java.lang.Thread.run(Thread.java:840)\n"
     ]
    }
   ],
   "source": [
    "producer.send('pavasal_cheste_fv', key={'fecha':time.time()}, value={'name':'lol','suname':'BUTTON_CLICK', 'casa': 34})"
   ]
  },
  {
   "cell_type": "code",
   "execution_count": 13,
   "id": "a0a68209-4ba4-48ea-bd17-f8eeace1cec7",
   "metadata": {},
   "outputs": [],
   "source": [
    "topic = \"pavasal_cheste_fv\""
   ]
  },
  {
   "cell_type": "code",
   "execution_count": 5,
   "id": "5a0c76a3-bb93-4772-be17-489458f9cd95",
   "metadata": {},
   "outputs": [
    {
     "name": "stdout",
     "output_type": "stream",
     "text": [
      "Message produced to topic 'pavasal_cheste_fv' at offset 0\n",
      "Message produced to topic 'pavasal_cheste_fv' at offset 1\n",
      "Message produced to topic 'pavasal_cheste_fv' at offset 2\n",
      "Message produced to topic 'pavasal_cheste_fv' at offset 3\n",
      "Message produced to topic 'pavasal_cheste_fv' at offset 4\n",
      "Message produced to topic 'pavasal_cheste_fv' at offset 5\n",
      "Message produced to topic 'pavasal_cheste_fv' at offset 6\n",
      "Message produced to topic 'pavasal_cheste_fv' at offset 7\n",
      "Message produced to topic 'pavasal_cheste_fv' at offset 8\n",
      "Message produced to topic 'pavasal_cheste_fv' at offset 9\n"
     ]
    }
   ],
   "source": [
    "# Produce asynchronously with callbacks\n",
    "for i in range(1, 11):\n",
    "  msg = f\"Order with id #{i}\"\n",
    "  future = producer.send(\n",
    "    topic,\n",
    "    value=str.encode(msg)\n",
    "  )\n",
    "  future.add_callback(on_success)\n",
    "  future.add_errback(on_error)\n",
    "\n",
    "producer.flush()\n",
    "producer.close()"
   ]
  },
  {
   "cell_type": "code",
   "execution_count": null,
   "id": "a97bad50-dc6c-4862-b407-90003084a74d",
   "metadata": {},
   "outputs": [],
   "source": []
  }
 ],
 "metadata": {
  "kernelspec": {
   "display_name": "Python 3 (ipykernel)",
   "language": "python",
   "name": "python3"
  },
  "language_info": {
   "codemirror_mode": {
    "name": "ipython",
    "version": 3
   },
   "file_extension": ".py",
   "mimetype": "text/x-python",
   "name": "python",
   "nbconvert_exporter": "python",
   "pygments_lexer": "ipython3",
   "version": "3.10.16"
  }
 },
 "nbformat": 4,
 "nbformat_minor": 5
}
