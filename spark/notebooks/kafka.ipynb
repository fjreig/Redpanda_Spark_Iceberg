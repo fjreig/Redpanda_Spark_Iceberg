{
 "cells": [
  {
   "cell_type": "code",
   "execution_count": 3,
   "id": "8e81668d-9cd9-48c4-af56-09c2a0372326",
   "metadata": {},
   "outputs": [],
   "source": [
    "#pip install kafka-python"
   ]
  },
  {
   "cell_type": "code",
   "execution_count": 16,
   "id": "9e70cd0b-c958-4446-a5cd-b92d23404ec8",
   "metadata": {},
   "outputs": [],
   "source": [
    "from kafka import KafkaProducer\n",
    "from kafka.errors import KafkaError\n",
    "import json\n",
    "import time"
   ]
  },
  {
   "cell_type": "code",
   "execution_count": 17,
   "id": "de1201c7-e9c5-4187-bef3-68d706e0c9d3",
   "metadata": {},
   "outputs": [],
   "source": [
    "def on_success(metadata):\n",
    "  print(f\"Message produced to topic '{metadata.topic}' at offset {metadata.offset}\")\n",
    "\n",
    "def on_error(e):\n",
    "  print(f\"Error sending message: {e}\")"
   ]
  },
  {
   "cell_type": "code",
   "execution_count": 18,
   "id": "16ae6e74-7cc3-46aa-a355-dca54227f5af",
   "metadata": {},
   "outputs": [],
   "source": [
    "producer = KafkaProducer(\n",
    "      bootstrap_servers = \"89.7.187.108:19092\",\n",
    "      security_protocol=\"SASL_PLAINTEXT\",\n",
    "      sasl_mechanism=\"SCRAM-SHA-256\",\n",
    "      sasl_plain_username=\"pavener\",\n",
    "      sasl_plain_password=\"l92giIQRJs7SvO0GFgAUgSyGUOa4aY\",\n",
    "      request_timeout_ms=15000\n",
    ")"
   ]
  },
  {
   "cell_type": "code",
   "execution_count": 19,
   "id": "65df2b29-4038-42de-ad79-15f9a9c064fb",
   "metadata": {},
   "outputs": [],
   "source": [
    "producer = KafkaProducer(\n",
    "      bootstrap_servers = \"89.7.187.108:19092\",\n",
    "      security_protocol=\"SASL_PLAINTEXT\",\n",
    "      sasl_mechanism=\"SCRAM-SHA-256\",\n",
    "      sasl_plain_username=\"fv_pavasal_cheste\",\n",
    "      sasl_plain_password=\"d3LHXr5sfnNvhW7ohT032woX1LsAXy\",\n",
    "      #value_serializer=lambda v: json.dumps(v).encode('utf-8'),\n",
    "      #key_serializer=lambda v: json.dumps(v).encode('utf-8'),\n",
    "      request_timeout_ms=15000\n",
    ")"
   ]
  },
  {
   "cell_type": "code",
   "execution_count": 20,
   "id": "a0a68209-4ba4-48ea-bd17-f8eeace1cec7",
   "metadata": {},
   "outputs": [],
   "source": [
    "topic = \"pavasal_cheste_fv\""
   ]
  },
  {
   "cell_type": "code",
   "execution_count": 21,
   "id": "5a0c76a3-bb93-4772-be17-489458f9cd95",
   "metadata": {},
   "outputs": [
    {
     "name": "stdout",
     "output_type": "stream",
     "text": [
      "Message produced to topic 'pavasal_cheste_fv' at offset 9045\n",
      "Message produced to topic 'pavasal_cheste_fv' at offset 9046\n",
      "Message produced to topic 'pavasal_cheste_fv' at offset 9047\n",
      "Message produced to topic 'pavasal_cheste_fv' at offset 9048\n",
      "Message produced to topic 'pavasal_cheste_fv' at offset 9049\n",
      "Message produced to topic 'pavasal_cheste_fv' at offset 9050\n",
      "Message produced to topic 'pavasal_cheste_fv' at offset 9051\n",
      "Message produced to topic 'pavasal_cheste_fv' at offset 9052\n",
      "Message produced to topic 'pavasal_cheste_fv' at offset 9053\n",
      "Message produced to topic 'pavasal_cheste_fv' at offset 9054\n"
     ]
    }
   ],
   "source": [
    "# Produce asynchronously with callbacks\n",
    "for i in range(1, 11):\n",
    "  msg = f\"Order with id #{i}\"\n",
    "  future = producer.send(\n",
    "    topic,\n",
    "    value=str.encode(msg)\n",
    "  )\n",
    "  future.add_callback(on_success)\n",
    "  future.add_errback(on_error)\n",
    "\n",
    "producer.flush()\n",
    "producer.close()"
   ]
  },
  {
   "cell_type": "code",
   "execution_count": null,
   "id": "a97bad50-dc6c-4862-b407-90003084a74d",
   "metadata": {},
   "outputs": [],
   "source": []
  }
 ],
 "metadata": {
  "kernelspec": {
   "display_name": "Python 3 (ipykernel)",
   "language": "python",
   "name": "python3"
  },
  "language_info": {
   "codemirror_mode": {
    "name": "ipython",
    "version": 3
   },
   "file_extension": ".py",
   "mimetype": "text/x-python",
   "name": "python",
   "nbconvert_exporter": "python",
   "pygments_lexer": "ipython3",
   "version": "3.10.16"
  }
 },
 "nbformat": 4,
 "nbformat_minor": 5
}
